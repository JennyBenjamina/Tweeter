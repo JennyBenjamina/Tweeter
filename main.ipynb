{
 "cells": [
  {
   "cell_type": "code",
   "execution_count": 1,
   "id": "9e9c846e-ad8d-4bf7-9e75-b87be27a5ee8",
   "metadata": {},
   "outputs": [
    {
     "name": "stderr",
     "output_type": "stream",
     "text": [
      "[nltk_data] Downloading package stopwords to\n",
      "[nltk_data]     C:\\Users\\Jenny\\AppData\\Roaming\\nltk_data...\n",
      "[nltk_data]   Package stopwords is already up-to-date!\n"
     ]
    }
   ],
   "source": [
    "from TweetScraper import TweetScraper\n",
    "from utility import to_df, to_countdf, to_csv"
   ]
  },
  {
   "cell_type": "code",
   "execution_count": 2,
   "id": "f682209a-6972-40cb-bf1f-9fa3c1dcfb86",
   "metadata": {},
   "outputs": [],
   "source": [
    "tweetie = TweetScraper()"
   ]
  },
  {
   "cell_type": "code",
   "execution_count": 3,
   "id": "cbbe5cef",
   "metadata": {},
   "outputs": [
    {
     "data": {
      "text/plain": [
       "safiyanoble     10\n",
       "need             6\n",
       "timnitGebru      6\n",
       "merbroussard     5\n",
       "drnickiw         5\n",
       "ubiquity75       5\n",
       "conversation     5\n",
       "great            5\n",
       "Im               5\n",
       "Black            5\n",
       "know             4\n",
       "many             4\n",
       "ruha9            4\n",
       "work             4\n",
       "ssrcjusttech     4\n",
       "salvilake        3\n",
       "women            3\n",
       "things           3\n",
       "book             3\n",
       "public           3\n",
       "Name: Words, dtype: int64"
      ]
     },
     "execution_count": 3,
     "metadata": {},
     "output_type": "execute_result"
    }
   ],
   "source": [
    "x = tweetie.top_words('safiyanoble') #user name\n",
    "x"
   ]
  },
  {
   "cell_type": "code",
   "execution_count": 4,
   "id": "9a5c3005",
   "metadata": {},
   "outputs": [
    {
     "data": {
      "image/png": "[encoded data removed]",
      "text/plain": [
       "<Figure size 720x360 with 1 Axes>"
      ]
     },
     "metadata": {
      "needs_background": "light"
     },
     "output_type": "display_data"
    },
    {
     "data": {
      "text/plain": [
       "<AxesSubplot:title={'center':'Top Words Overall'}, xlabel='Count of Words', ylabel='Word from Tweet'>"
      ]
     },
     "execution_count": 4,
     "metadata": {},
     "output_type": "execute_result"
    }
   ],
   "source": [
    "graph = tweetie.to_graph(x)\n",
    "graph"
   ]
  },
  {
   "cell_type": "code",
   "execution_count": 5,
   "id": "3927e2a5-dc81-4402-b12d-df070c148c46",
   "metadata": {},
   "outputs": [
    {
     "name": "stdout",
     "output_type": "stream",
     "text": [
      "[\"NEW YORK (AP) — Tennis star Novak Djokovic unable to travel to U.S. for events at Indian Wells and Miami because he's unvaccinated.\", 'The Tories, who were funded by Russian oligarchs, played tennis with Russian oligarchs, gave VIP passports to Russi… https://t.co/U2l7Om7L82', 'Dems won’t provide fighter jets or produce more oil &amp; gas, but if Putin develops a really good tennis serve, they’v… https://t.co/tSZ8ombYO3', 'Of course Russian and Belarusian tennis players should be banned from playing while Putin continues his barbaric wa… https://t.co/DBWMRwtqVA', 'David Cameron said he had “absolutely no conversation” about Putin with Russian Tory donor Lubov Chernukhin during… https://t.co/LxO2PwTeu8', \"Andy Murray has pledged to donate the remainder of his 2022 season's prize money to help children in Ukraine https://t.co/P3LcsWGdTZ\", 'Much respect for @BillieJeanKing. She has used tennis as a platform for social change in America and around the wor… https://t.co/pIGtbbZ2S8', 'Tennis star Coco Gauff has voiced her opposition to a bill in her home state of Florida that would prohibit classro… https://t.co/qjHttTnpqG', 'Novak Djokovic says he will not be able to compete at the two upcoming tennis tournaments in the United States beca… https://t.co/hWG0fkO4m2', \"'If they were trying to buy something, they didn't get it, did they?'\\n\\nFormer Prime Minister David Cameron has defe… https://t.co/0CNgfAnYzH\", \"Tennis player, photographer, commentator... What's next for me? Let me know! 🧐😂\\n\\nSo much fun at #TieBreakTens yeste… https://t.co/fJArxZuZ3q\", \"Zverev's Acapulco tantrum should have cost him more than a default, a middling fine and probation, but the ATP has… https://t.co/1zdPJoXqau\"]\n"
     ]
    }
   ],
   "source": [
    "t = tweetie.get_tweets('tennis') #write any keyword(s)\n",
    "print(t)"
   ]
  },
  {
   "cell_type": "code",
   "execution_count": 6,
   "id": "07455320-83c5-4a0f-8abf-6156cb128f30",
   "metadata": {},
   "outputs": [
    {
     "name": "stdout",
     "output_type": "stream",
     "text": [
      "    tweets                                               text\n",
      "0        1  NEW YORK (AP) — Tennis star Novak Djokovic una...\n",
      "1        2  The Tories, who were funded by Russian oligarc...\n",
      "2        3  Dems won’t provide fighter jets or produce mor...\n",
      "3        4  Of course Russian and Belarusian tennis player...\n",
      "4        5  David Cameron said he had “absolutely no conve...\n",
      "5        6  Andy Murray has pledged to donate the remainde...\n",
      "6        7  Much respect for @BillieJeanKing. She has used...\n",
      "7        8  Tennis star Coco Gauff has voiced her oppositi...\n",
      "8        9  Novak Djokovic says he will not be able to com...\n",
      "9       10  'If they were trying to buy something, they di...\n",
      "10      11  Tennis player, photographer, commentator... Wh...\n",
      "11      12  Zverev's Acapulco tantrum should have cost him...\n"
     ]
    }
   ],
   "source": [
    "d = to_df(t)\n",
    "print(d)"
   ]
  },
  {
   "cell_type": "code",
   "execution_count": 7,
   "id": "644b8470",
   "metadata": {},
   "outputs": [
    {
     "name": "stdout",
     "output_type": "stream",
     "text": [
      "dropped\n"
     ]
    },
    {
     "data": {
      "text/html": [
       "<div>\n",
       "<style scoped>\n",
       "    .dataframe tbody tr th:only-of-type {\n",
       "        vertical-align: middle;\n",
       "    }\n",
       "\n",
       "    .dataframe tbody tr th {\n",
       "        vertical-align: top;\n",
       "    }\n",
       "\n",
       "    .dataframe thead th {\n",
       "        text-align: right;\n",
       "    }\n",
       "</style>\n",
       "<table border=\"1\" class=\"dataframe\">\n",
       "  <thead>\n",
       "    <tr style=\"text-align: right;\">\n",
       "      <th></th>\n",
       "      <th>cameron</th>\n",
       "      <th>david</th>\n",
       "      <th>djokovic</th>\n",
       "      <th>novak</th>\n",
       "      <th>putin</th>\n",
       "      <th>russian</th>\n",
       "      <th>star</th>\n",
       "      <th>tennis</th>\n",
       "    </tr>\n",
       "  </thead>\n",
       "  <tbody>\n",
       "    <tr>\n",
       "      <th>0</th>\n",
       "      <td>0</td>\n",
       "      <td>0</td>\n",
       "      <td>1</td>\n",
       "      <td>1</td>\n",
       "      <td>0</td>\n",
       "      <td>0</td>\n",
       "      <td>1</td>\n",
       "      <td>1</td>\n",
       "    </tr>\n",
       "    <tr>\n",
       "      <th>1</th>\n",
       "      <td>0</td>\n",
       "      <td>0</td>\n",
       "      <td>0</td>\n",
       "      <td>0</td>\n",
       "      <td>0</td>\n",
       "      <td>2</td>\n",
       "      <td>0</td>\n",
       "      <td>1</td>\n",
       "    </tr>\n",
       "    <tr>\n",
       "      <th>2</th>\n",
       "      <td>0</td>\n",
       "      <td>0</td>\n",
       "      <td>0</td>\n",
       "      <td>0</td>\n",
       "      <td>1</td>\n",
       "      <td>0</td>\n",
       "      <td>0</td>\n",
       "      <td>1</td>\n",
       "    </tr>\n",
       "    <tr>\n",
       "      <th>3</th>\n",
       "      <td>0</td>\n",
       "      <td>0</td>\n",
       "      <td>0</td>\n",
       "      <td>0</td>\n",
       "      <td>1</td>\n",
       "      <td>1</td>\n",
       "      <td>0</td>\n",
       "      <td>1</td>\n",
       "    </tr>\n",
       "    <tr>\n",
       "      <th>4</th>\n",
       "      <td>1</td>\n",
       "      <td>1</td>\n",
       "      <td>0</td>\n",
       "      <td>0</td>\n",
       "      <td>1</td>\n",
       "      <td>1</td>\n",
       "      <td>0</td>\n",
       "      <td>0</td>\n",
       "    </tr>\n",
       "    <tr>\n",
       "      <th>5</th>\n",
       "      <td>0</td>\n",
       "      <td>0</td>\n",
       "      <td>0</td>\n",
       "      <td>0</td>\n",
       "      <td>0</td>\n",
       "      <td>0</td>\n",
       "      <td>0</td>\n",
       "      <td>0</td>\n",
       "    </tr>\n",
       "    <tr>\n",
       "      <th>6</th>\n",
       "      <td>0</td>\n",
       "      <td>0</td>\n",
       "      <td>0</td>\n",
       "      <td>0</td>\n",
       "      <td>0</td>\n",
       "      <td>0</td>\n",
       "      <td>0</td>\n",
       "      <td>1</td>\n",
       "    </tr>\n",
       "    <tr>\n",
       "      <th>7</th>\n",
       "      <td>0</td>\n",
       "      <td>0</td>\n",
       "      <td>0</td>\n",
       "      <td>0</td>\n",
       "      <td>0</td>\n",
       "      <td>0</td>\n",
       "      <td>1</td>\n",
       "      <td>1</td>\n",
       "    </tr>\n",
       "    <tr>\n",
       "      <th>8</th>\n",
       "      <td>0</td>\n",
       "      <td>0</td>\n",
       "      <td>1</td>\n",
       "      <td>1</td>\n",
       "      <td>0</td>\n",
       "      <td>0</td>\n",
       "      <td>0</td>\n",
       "      <td>1</td>\n",
       "    </tr>\n",
       "    <tr>\n",
       "      <th>9</th>\n",
       "      <td>1</td>\n",
       "      <td>1</td>\n",
       "      <td>0</td>\n",
       "      <td>0</td>\n",
       "      <td>0</td>\n",
       "      <td>0</td>\n",
       "      <td>0</td>\n",
       "      <td>0</td>\n",
       "    </tr>\n",
       "    <tr>\n",
       "      <th>10</th>\n",
       "      <td>0</td>\n",
       "      <td>0</td>\n",
       "      <td>0</td>\n",
       "      <td>0</td>\n",
       "      <td>0</td>\n",
       "      <td>0</td>\n",
       "      <td>0</td>\n",
       "      <td>1</td>\n",
       "    </tr>\n",
       "    <tr>\n",
       "      <th>11</th>\n",
       "      <td>0</td>\n",
       "      <td>0</td>\n",
       "      <td>0</td>\n",
       "      <td>0</td>\n",
       "      <td>0</td>\n",
       "      <td>0</td>\n",
       "      <td>0</td>\n",
       "      <td>0</td>\n",
       "    </tr>\n",
       "  </tbody>\n",
       "</table>\n",
       "</div>"
      ],
      "text/plain": [
       "    cameron  david  djokovic  novak  putin  russian  star  tennis\n",
       "0         0      0         1      1      0        0     1       1\n",
       "1         0      0         0      0      0        2     0       1\n",
       "2         0      0         0      0      1        0     0       1\n",
       "3         0      0         0      0      1        1     0       1\n",
       "4         1      1         0      0      1        1     0       0\n",
       "5         0      0         0      0      0        0     0       0\n",
       "6         0      0         0      0      0        0     0       1\n",
       "7         0      0         0      0      0        0     1       1\n",
       "8         0      0         1      1      0        0     0       1\n",
       "9         1      1         0      0      0        0     0       0\n",
       "10        0      0         0      0      0        0     0       1\n",
       "11        0      0         0      0      0        0     0       0"
      ]
     },
     "execution_count": 7,
     "metadata": {},
     "output_type": "execute_result"
    }
   ],
   "source": [
    "to_countdf(d)"
   ]
  },
  {
   "cell_type": "code",
   "execution_count": 8,
   "id": "e8067ee7",
   "metadata": {},
   "outputs": [],
   "source": [
    "data, col = tweetie.get_my_tweets()\n",
    "to_csv(data,col)"
   ]
  },
  {
   "cell_type": "markdown",
   "id": "d8ca84a3",
   "metadata": {},
   "source": [
    "<a href=\"#exception\">Exception Handling</a>"
   ]
  },
  {
   "cell_type": "code",
   "execution_count": 8,
   "id": "a9269dc8",
   "metadata": {},
   "outputs": [
    {
     "name": "stdout",
     "output_type": "stream",
     "text": [
      "User does not exist\n"
     ]
    }
   ],
   "source": [
    "#Exception Handling\n",
    "tweetie.top_words('Safyanoble')"
   ]
  },
  {
   "cell_type": "code",
   "execution_count": 9,
   "id": "94327126",
   "metadata": {},
   "outputs": [
    {
     "name": "stdout",
     "output_type": "stream",
     "text": [
      "Must be proper data and column entries!\n"
     ]
    }
   ],
   "source": [
    "to_csv('hello')"
   ]
  }
 ],
 "metadata": {
  "kernelspec": {
   "display_name": "Python 3 (ipykernel)",
   "language": "python",
   "name": "python3"
  },
  "language_info": {
   "codemirror_mode": {
    "name": "ipython",
    "version": 3
   },
   "file_extension": ".py",
   "mimetype": "text/x-python",
   "name": "python",
   "nbconvert_exporter": "python",
   "pygments_lexer": "ipython3",
   "version": "3.9.7"
  }
 },
 "nbformat": 4,
 "nbformat_minor": 5
}
